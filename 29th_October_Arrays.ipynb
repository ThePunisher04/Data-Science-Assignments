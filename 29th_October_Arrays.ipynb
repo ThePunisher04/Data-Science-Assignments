{
 "cells": [
  {
   "cell_type": "code",
   "execution_count": 1,
   "id": "3c6563b9-77d8-4cee-97f8-7d2ea00947a8",
   "metadata": {},
   "outputs": [],
   "source": [
    "#1 Check duplicates"
   ]
  },
  {
   "cell_type": "code",
   "execution_count": 30,
   "id": "a4f1c1af-f71e-45a8-9b57-2bf5e28094dd",
   "metadata": {},
   "outputs": [],
   "source": [
    "def checkDuplicates(arr):\n",
    "    \"\"\"\n",
    "    Time complexity = O(n.logn)\n",
    "    Space complexity = O(1)\n",
    "    \"\"\"\n",
    "    flag = False\n",
    "    arr.sort()\n",
    "    for i in range(len(arr)-1):\n",
    "        if arr[i+1] == arr[i] :\n",
    "            flag = True\n",
    "            break\n",
    "    return flag"
   ]
  },
  {
   "cell_type": "code",
   "execution_count": 11,
   "id": "94513497-5c7d-49b7-8165-09add487d6aa",
   "metadata": {},
   "outputs": [
    {
     "name": "stdout",
     "output_type": "stream",
     "text": [
      "DUPLICATE EXISTS\n"
     ]
    }
   ],
   "source": [
    "arr = [1,2,2,3,4,7,5]\n",
    "ans = checkDuplicates(arr)\n",
    "if ans == True :\n",
    "    print(\"DUPLICATE EXISTS\")\n",
    "else :\n",
    "    print(\"DUPLICATES DOES NOT EXIST\")"
   ]
  },
  {
   "cell_type": "code",
   "execution_count": 12,
   "id": "e09d6187-346f-4004-8e39-bb9077cf1b65",
   "metadata": {},
   "outputs": [],
   "source": [
    "#2 Rotate array by k steps"
   ]
  },
  {
   "cell_type": "code",
   "execution_count": 31,
   "id": "07218964-0706-4a95-84aa-5308392edf39",
   "metadata": {},
   "outputs": [],
   "source": [
    "def rotateArray(arr, k):\n",
    "    \"\"\"\n",
    "    Time complexity = O(n)\n",
    "    Space complexity = O(n)\n",
    "    \"\"\"\n",
    "    n = len(arr)\n",
    "    brr = [None] * n\n",
    "    for i in range(n):\n",
    "        brr[i] = arr[(i+k) % n]\n",
    "    return brr"
   ]
  },
  {
   "cell_type": "code",
   "execution_count": 24,
   "id": "1a1d406b-b328-4119-b0b7-65eed70e2234",
   "metadata": {},
   "outputs": [
    {
     "data": {
      "text/plain": [
       "[4, 5, 6, 7, 1, 2, 3]"
      ]
     },
     "execution_count": 24,
     "metadata": {},
     "output_type": "execute_result"
    }
   ],
   "source": [
    "arr = [1,2,3,4,5,6,7]\n",
    "brr = rotateArray(arr, 3)\n",
    "brr"
   ]
  },
  {
   "cell_type": "code",
   "execution_count": 25,
   "id": "6ecd17f5-0075-4056-b94e-1c7f47d65566",
   "metadata": {},
   "outputs": [],
   "source": [
    "#3 Reverse array in place"
   ]
  },
  {
   "cell_type": "code",
   "execution_count": 32,
   "id": "663d0324-bd08-4949-96f1-7ee4cae4be0b",
   "metadata": {},
   "outputs": [],
   "source": [
    "def reverseArray(arr):\n",
    "    \"\"\"\n",
    "    Time complexity = O(n)\n",
    "    Space complexity = O(1)\n",
    "    \"\"\"\n",
    "    n = len(arr)\n",
    "    s = 0\n",
    "    e = n-1\n",
    "    while(s<=e):\n",
    "        temp = arr[s]\n",
    "        arr[s] = arr[e]\n",
    "        arr[e] = temp\n",
    "        s+=1\n",
    "        e-=1\n",
    "    return arr        "
   ]
  },
  {
   "cell_type": "code",
   "execution_count": 29,
   "id": "21f717e6-254a-4745-b543-23e68e33d4dd",
   "metadata": {},
   "outputs": [
    {
     "data": {
      "text/plain": [
       "[7, 6, 5, 4, 3, 2, 1]"
      ]
     },
     "execution_count": 29,
     "metadata": {},
     "output_type": "execute_result"
    }
   ],
   "source": [
    "arr = [1,2,3,4,5,6,7]\n",
    "reverseArray(arr)\n",
    "arr"
   ]
  },
  {
   "cell_type": "code",
   "execution_count": 33,
   "id": "c3a3b6ef-67a0-42d7-90d9-d25a11f5e26e",
   "metadata": {},
   "outputs": [],
   "source": [
    "#4 Find maximum "
   ]
  },
  {
   "cell_type": "code",
   "execution_count": 36,
   "id": "1c841888-627c-4645-8e2d-b8f3996f6e35",
   "metadata": {},
   "outputs": [],
   "source": [
    "def maximumElement(arr):\n",
    "    \"\"\"\n",
    "    Time complexity = O(n)\n",
    "    Space complexity = O(1)\n",
    "    \"\"\"\n",
    "    ans = arr[0]\n",
    "    for i in range(len(arr)):\n",
    "        if arr[i] > ans:\n",
    "            ans = arr[i]\n",
    "    return ans"
   ]
  },
  {
   "cell_type": "code",
   "execution_count": 37,
   "id": "216c3d29-f44f-4f8b-ac8b-3e30c3013348",
   "metadata": {},
   "outputs": [
    {
     "data": {
      "text/plain": [
       "69"
      ]
     },
     "execution_count": 37,
     "metadata": {},
     "output_type": "execute_result"
    }
   ],
   "source": [
    "arr = [1,12,35,14,55,69,47]\n",
    "maximumElement(arr)"
   ]
  },
  {
   "cell_type": "code",
   "execution_count": 38,
   "id": "ed01faee-8fa7-4d58-b6f6-6e6bc27ec750",
   "metadata": {},
   "outputs": [],
   "source": [
    "#5 Remove Duplicates"
   ]
  },
  {
   "cell_type": "code",
   "execution_count": 45,
   "id": "d4d33b5d-212c-499f-9950-811a52d7527f",
   "metadata": {},
   "outputs": [],
   "source": [
    "def removeDuplicates(arr):\n",
    "    n = len(arr)\n",
    "    if n==0 or n==1:\n",
    "        return arr\n",
    "    i = 0\n",
    "    for j in range(n-1):\n",
    "        if arr[j+1] != arr[j]:\n",
    "            arr[i] = arr[j]\n",
    "            i += 1\n",
    "    arr[i] = arr[n-1]\n",
    "    return i+1  "
   ]
  },
  {
   "cell_type": "code",
   "execution_count": 47,
   "id": "2b33a045-3eea-4d24-b18c-c35e842ebfd2",
   "metadata": {},
   "outputs": [
    {
     "name": "stdout",
     "output_type": "stream",
     "text": [
      "1 2 3 4 5 6 7 "
     ]
    }
   ],
   "source": [
    "arr = [1,2,2,2,3,4,4,5,6,7,7,7]\n",
    "n = removeDuplicates(arr)\n",
    "for i in range(n):\n",
    "    print(arr[i], end=\" \")"
   ]
  },
  {
   "cell_type": "code",
   "execution_count": null,
   "id": "78a9d86e-8555-495f-8e8c-72451242289d",
   "metadata": {},
   "outputs": [],
   "source": []
  }
 ],
 "metadata": {
  "kernelspec": {
   "display_name": "Python 3 (ipykernel)",
   "language": "python",
   "name": "python3"
  },
  "language_info": {
   "codemirror_mode": {
    "name": "ipython",
    "version": 3
   },
   "file_extension": ".py",
   "mimetype": "text/x-python",
   "name": "python",
   "nbconvert_exporter": "python",
   "pygments_lexer": "ipython3",
   "version": "3.10.8"
  }
 },
 "nbformat": 4,
 "nbformat_minor": 5
}
