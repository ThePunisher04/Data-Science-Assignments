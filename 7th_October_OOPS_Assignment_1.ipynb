{
 "cells": [
  {
   "cell_type": "code",
   "execution_count": null,
   "id": "a705333e-1ba8-4379-bea1-abc84d4d3c65",
   "metadata": {},
   "outputs": [],
   "source": [
    "#1"
   ]
  },
  {
   "cell_type": "code",
   "execution_count": 11,
   "id": "efb2a49c-0f03-4f03-a538-dee09f23a832",
   "metadata": {},
   "outputs": [],
   "source": [
    "class bank:\n",
    "    def __init__(self, number, name, balance):\n",
    "        self.account_number = number\n",
    "        self.account_holder_name = name\n",
    "        self.account_balance = balance\n",
    "    \n",
    "    def deposit_money(self, amount):\n",
    "        self.account_balance += amount\n",
    "        print(f\"Successfully deposited {amount} into your account\")\n",
    "        print(\"New balance = \", self.account_balance)\n",
    "    \n",
    "    def withdraw_money(self, amount):\n",
    "        self.account_balance -= amount\n",
    "        print(f\"Successfully withdrawn {amount} from your account\")\n",
    "        print(\"New balance = \", self.account_balance)\n",
    "        \n",
    "    def check_balance(self):\n",
    "        print(\"Current balance = \", self.account_balance)"
   ]
  },
  {
   "cell_type": "code",
   "execution_count": 12,
   "id": "858cc99e-c273-4ff6-80de-fce8ab3a26b5",
   "metadata": {},
   "outputs": [],
   "source": [
    "vats = bank(222555777, \"vatsalya\", 50000)"
   ]
  },
  {
   "cell_type": "code",
   "execution_count": 13,
   "id": "9eff9096-4dc7-41b0-b0e2-c29ac2644693",
   "metadata": {},
   "outputs": [
    {
     "name": "stdout",
     "output_type": "stream",
     "text": [
      "Current balance =  50000\n"
     ]
    }
   ],
   "source": [
    "vats.check_balance()"
   ]
  },
  {
   "cell_type": "code",
   "execution_count": 14,
   "id": "14ac2538-d44a-4a48-8d84-c49976a1f25e",
   "metadata": {},
   "outputs": [
    {
     "name": "stdout",
     "output_type": "stream",
     "text": [
      "Successfully deposited 30000 into your account\n",
      "New balance =  80000\n"
     ]
    }
   ],
   "source": [
    "vats.deposit_money(30000)"
   ]
  },
  {
   "cell_type": "code",
   "execution_count": 15,
   "id": "5e8476be-7345-4792-8a85-e12564fadde4",
   "metadata": {},
   "outputs": [
    {
     "name": "stdout",
     "output_type": "stream",
     "text": [
      "Successfully withdrawn 10000 from your account\n",
      "New balance =  70000\n"
     ]
    }
   ],
   "source": [
    "vats.withdraw_money(10000)"
   ]
  },
  {
   "cell_type": "code",
   "execution_count": 16,
   "id": "1a4f7421-23b2-4be9-bb02-283fe858620d",
   "metadata": {},
   "outputs": [],
   "source": [
    "#2"
   ]
  },
  {
   "cell_type": "code",
   "execution_count": 22,
   "id": "e06fb4ab-ef88-4e9f-a2f3-9d696b6bce8b",
   "metadata": {},
   "outputs": [],
   "source": [
    "class employee:\n",
    "    def __init__(self, emp_id, name, salary):\n",
    "        self.emp_id = emp_id\n",
    "        self.emp_name = name\n",
    "        self.emp_salary = salary\n",
    "        \n",
    "    def display_details(self):\n",
    "        return {\"Employee ID\" : self.emp_id, \"Employee Name\" : self.emp_name, \"Salary\" : self.emp_salary}\n",
    "    \n",
    "    def yearly_bonus(self):\n",
    "        yearly_salary = self.emp_salary*12\n",
    "        bonus_percentage = 10\n",
    "        yearly_bonus = (10/100) * yearly_salary\n",
    "        return yearly_bonus"
   ]
  },
  {
   "cell_type": "code",
   "execution_count": 23,
   "id": "7a26cafa-d0a1-434f-a8be-404630ecb54f",
   "metadata": {},
   "outputs": [],
   "source": [
    "vats = employee(101, \"Vatsalya Kumar Mishra\", 80000)"
   ]
  },
  {
   "cell_type": "code",
   "execution_count": 24,
   "id": "f82a239d-efad-4926-936c-53cff5313dd6",
   "metadata": {},
   "outputs": [
    {
     "data": {
      "text/plain": [
       "{'Employee ID': 101, 'Employee Name': 'Vatsalya Kumar Mishra', 'Salary': 80000}"
      ]
     },
     "execution_count": 24,
     "metadata": {},
     "output_type": "execute_result"
    }
   ],
   "source": [
    "vats.display_details()"
   ]
  },
  {
   "cell_type": "code",
   "execution_count": 25,
   "id": "5dd00867-2416-458b-acd0-b6c157073645",
   "metadata": {},
   "outputs": [
    {
     "data": {
      "text/plain": [
       "96000.0"
      ]
     },
     "execution_count": 25,
     "metadata": {},
     "output_type": "execute_result"
    }
   ],
   "source": [
    "vats.yearly_bonus()"
   ]
  },
  {
   "cell_type": "code",
   "execution_count": 26,
   "id": "1c7900e4-5448-49c0-998d-d6afde428380",
   "metadata": {},
   "outputs": [],
   "source": [
    "#3"
   ]
  },
  {
   "cell_type": "code",
   "execution_count": 317,
   "id": "c44a62b6-380e-42b2-95e1-78c95f873d92",
   "metadata": {},
   "outputs": [],
   "source": [
    "class Vehicle:\n",
    "    \n",
    "    def __init__(self, vehicle_id, name, isAvailable = True):\n",
    "        self.vehicle_id = vehicle_id\n",
    "        self.vehicle_name = name\n",
    "        self.isAvailable = isAvailable\n",
    "    \n",
    "class vehicle_rental_system():\n",
    "    \n",
    "    def __init__(self):\n",
    "        self.vehicles = []\n",
    "        \n",
    "    def add_vehicle(self, vehicle_id, name):\n",
    "        vehicle =  Vehicle(vehicle_id, name)\n",
    "        self.vehicles.append([vehicle.vehicle_id, vehicle.vehicle_name, vehicle.isAvailable])\n",
    "        print(f\"Vehicle {vehicle_id} added successfully\")\n",
    "    \n",
    "    def available_vehicles(self):\n",
    "        for i in self.vehicles:\n",
    "            if i[2] == True:\n",
    "                print(i)\n",
    "    \n",
    "    def rent_vehicle(self, vehicle_id):\n",
    "        for i in self.vehicles:\n",
    "            if i[0] == vehicle_id and i[2] == True:\n",
    "                i[2] = False\n",
    "                print(f\"Vehicle {vehicle_id} has been rented successfully\")\n",
    "                return\n",
    "            if i[0] == vehicle_id and i[2] == False:\n",
    "                print(f\"Vehicle {vehicle_id} is not available for rent\")\n",
    "                return\n",
    "        print(\"SORRY...Vehicle not found\")\n",
    "            \n",
    "    def return_vehicle(self, vehicle_id):\n",
    "        for i in self.vehicles:\n",
    "            if i[0] == vehicle_id and i[2] == False:\n",
    "                i[2] = True\n",
    "                print(f\"Vehicle {vehicle_id} returned successfully\")\n",
    "                return\n",
    "            if i[0] == vehicle_id and i[2] == True:\n",
    "                print(f\"Vehicle {vehicle_id} is already available\") \n",
    "                return \n",
    "        print(\"SORRY...Vehicle not found\")"
   ]
  },
  {
   "cell_type": "code",
   "execution_count": 318,
   "id": "72599bde-ec9b-41cd-9309-37a087518fcb",
   "metadata": {},
   "outputs": [],
   "source": [
    "v1 = vehicle_rental_system()"
   ]
  },
  {
   "cell_type": "code",
   "execution_count": 319,
   "id": "7b6a751f-e5eb-4942-8c4c-a8aec5d9ee19",
   "metadata": {},
   "outputs": [
    {
     "name": "stdout",
     "output_type": "stream",
     "text": [
      "Vehicle 101 added successfully\n",
      "Vehicle 102 added successfully\n",
      "Vehicle 103 added successfully\n"
     ]
    }
   ],
   "source": [
    "v1.add_vehicle(101, \"hero\")\n",
    "v1.add_vehicle(102, \"toyota\")\n",
    "v1.add_vehicle(103, \"ford\")"
   ]
  },
  {
   "cell_type": "code",
   "execution_count": 320,
   "id": "29fda8ae-6544-4927-ad26-74b8367756e8",
   "metadata": {},
   "outputs": [
    {
     "name": "stdout",
     "output_type": "stream",
     "text": [
      "[101, 'hero', True]\n",
      "[102, 'toyota', True]\n",
      "[103, 'ford', True]\n"
     ]
    }
   ],
   "source": [
    "v1.available_vehicles()"
   ]
  },
  {
   "cell_type": "code",
   "execution_count": 321,
   "id": "0328bbb4-40cc-4e10-b1a4-cf40685152cf",
   "metadata": {},
   "outputs": [
    {
     "name": "stdout",
     "output_type": "stream",
     "text": [
      "Vehicle 101 has been rented successfully\n"
     ]
    }
   ],
   "source": [
    "v1.rent_vehicle(101)"
   ]
  },
  {
   "cell_type": "code",
   "execution_count": 322,
   "id": "dbe34511-b5f9-4a35-80c5-c437704bddd7",
   "metadata": {},
   "outputs": [
    {
     "name": "stdout",
     "output_type": "stream",
     "text": [
      "[102, 'toyota', True]\n",
      "[103, 'ford', True]\n"
     ]
    }
   ],
   "source": [
    "v1.available_vehicles()"
   ]
  },
  {
   "cell_type": "code",
   "execution_count": 323,
   "id": "75cacc27-3865-4915-a7ff-281e7bb7d175",
   "metadata": {},
   "outputs": [
    {
     "name": "stdout",
     "output_type": "stream",
     "text": [
      "Vehicle 101 is not available for rent\n"
     ]
    }
   ],
   "source": [
    "v1.rent_vehicle(101)"
   ]
  },
  {
   "cell_type": "code",
   "execution_count": 324,
   "id": "debbe9a0-0973-413b-b4f6-ef0212aa77c8",
   "metadata": {},
   "outputs": [
    {
     "name": "stdout",
     "output_type": "stream",
     "text": [
      "Vehicle 101 returned successfully\n"
     ]
    }
   ],
   "source": [
    "v1.return_vehicle(101)"
   ]
  },
  {
   "cell_type": "code",
   "execution_count": 325,
   "id": "339864d8-5e26-4664-8148-3e8f451ac784",
   "metadata": {},
   "outputs": [
    {
     "name": "stdout",
     "output_type": "stream",
     "text": [
      "[101, 'hero', True]\n",
      "[102, 'toyota', True]\n",
      "[103, 'ford', True]\n"
     ]
    }
   ],
   "source": [
    "v1.available_vehicles()"
   ]
  },
  {
   "cell_type": "code",
   "execution_count": 326,
   "id": "5191acca-61b2-4b05-b879-ad92adda83de",
   "metadata": {},
   "outputs": [
    {
     "name": "stdout",
     "output_type": "stream",
     "text": [
      "Vehicle 101 is already available\n"
     ]
    }
   ],
   "source": [
    "v1.return_vehicle(101)"
   ]
  },
  {
   "cell_type": "code",
   "execution_count": 327,
   "id": "1fc6bb69-bdf7-43ad-b9fb-3d6908461720",
   "metadata": {},
   "outputs": [
    {
     "name": "stdout",
     "output_type": "stream",
     "text": [
      "SORRY...Vehicle not found\n"
     ]
    }
   ],
   "source": [
    "v1.rent_vehicle(104)"
   ]
  },
  {
   "cell_type": "code",
   "execution_count": 328,
   "id": "8c3c98a8-bd32-41ed-9715-ee55ad36fb44",
   "metadata": {},
   "outputs": [
    {
     "name": "stdout",
     "output_type": "stream",
     "text": [
      "SORRY...Vehicle not found\n"
     ]
    }
   ],
   "source": [
    "v1.return_vehicle(105)"
   ]
  },
  {
   "cell_type": "code",
   "execution_count": 59,
   "id": "b47ab9dc-c63b-4829-b6e7-f06edd71cf3a",
   "metadata": {},
   "outputs": [],
   "source": [
    "#4"
   ]
  },
  {
   "cell_type": "code",
   "execution_count": 335,
   "id": "2afb7507-1672-4a35-8793-d801791ea94b",
   "metadata": {},
   "outputs": [],
   "source": [
    "class library:\n",
    "    def __init__(self, book_id, book_name):\n",
    "        self.book_id = book_id\n",
    "        self.book_name = book_name\n",
    "        self.isAvailable = True  \n",
    "                 \n",
    "class book:\n",
    "    def __init__(self):\n",
    "        self.books = []\n",
    "    \n",
    "    def add_book(self, book_id, book_name):\n",
    "        book = library(book_id, book_name)\n",
    "        self.books.append([book.book_id, book.book_name, book.isAvailable])\n",
    "        print(f\"Book {book_id} added successfully\")\n",
    "        \n",
    "    def borrow_book(self, book_id):\n",
    "        for i in self.books:\n",
    "            if i[0] == book_id and i[2] == True:\n",
    "                i[2] = False\n",
    "                print(f\"Book {book_id} has been successfully borrowed\")\n",
    "                return\n",
    "            if i[0] == book_id and i[2] == False:\n",
    "                print(f\"Book {book_id} can not be borrowed\")\n",
    "                return\n",
    "        print(\"SORRY...Book not found\")\n",
    "        \n",
    "    def return_book(self, book_id):\n",
    "        for i in self.books:\n",
    "            if i[0] == book_id and i[2] == False:\n",
    "                i[2] = True\n",
    "                print(f\"Book {book_id} has been successfully returned\")\n",
    "                return\n",
    "            if i[0] == book_id and i[2] == True:\n",
    "                print(f\"Book {book_id} is already available\")\n",
    "                return\n",
    "        print(\"SORRY...Book not found\")\n",
    "        \n",
    "    def available_books(self):\n",
    "        for i in self.books:\n",
    "            if i[2] == True:\n",
    "                print(i)\n",
    "    "
   ]
  },
  {
   "cell_type": "code",
   "execution_count": 336,
   "id": "60103c68-1a1b-4b5d-ba30-73205754dc1e",
   "metadata": {},
   "outputs": [],
   "source": [
    "b1 = book()"
   ]
  },
  {
   "cell_type": "code",
   "execution_count": 337,
   "id": "10e8d0c1-140e-4cc5-abc2-1032e99238a5",
   "metadata": {},
   "outputs": [
    {
     "name": "stdout",
     "output_type": "stream",
     "text": [
      "Book 101 added successfully\n",
      "Book 102 added successfully\n",
      "Book 103 added successfully\n"
     ]
    }
   ],
   "source": [
    "b1.add_book(101, \"A Brief History of Time\")\n",
    "b1.add_book(102, \"The Special Theory of Relativity\")\n",
    "b1.add_book(103, \"On the Origin of Species\")"
   ]
  },
  {
   "cell_type": "code",
   "execution_count": 338,
   "id": "5445e6e6-ad01-4ef6-9b3e-025a48e2383a",
   "metadata": {},
   "outputs": [
    {
     "name": "stdout",
     "output_type": "stream",
     "text": [
      "[101, 'A Brief History of Time', True]\n",
      "[102, 'The Special Theory of Relativity', True]\n",
      "[103, 'On the Origin of Species', True]\n"
     ]
    }
   ],
   "source": [
    "b1.available_books()"
   ]
  },
  {
   "cell_type": "code",
   "execution_count": 339,
   "id": "7a284564-32f4-4c14-bfa9-abdb72d55436",
   "metadata": {},
   "outputs": [
    {
     "name": "stdout",
     "output_type": "stream",
     "text": [
      "Book 101 has been successfully borrowed\n"
     ]
    }
   ],
   "source": [
    "b1.borrow_book(101)"
   ]
  },
  {
   "cell_type": "code",
   "execution_count": 340,
   "id": "a0331bbf-4b8e-42fb-a125-8f64ee4f68c4",
   "metadata": {},
   "outputs": [
    {
     "name": "stdout",
     "output_type": "stream",
     "text": [
      "[102, 'The Special Theory of Relativity', True]\n",
      "[103, 'On the Origin of Species', True]\n"
     ]
    }
   ],
   "source": [
    "b1.available_books()"
   ]
  },
  {
   "cell_type": "code",
   "execution_count": 341,
   "id": "2466d8b5-190a-4067-b8a3-8e2ad407b6b6",
   "metadata": {},
   "outputs": [
    {
     "name": "stdout",
     "output_type": "stream",
     "text": [
      "Book 101 can not be borrowed\n"
     ]
    }
   ],
   "source": [
    "b1.borrow_book(101)"
   ]
  },
  {
   "cell_type": "code",
   "execution_count": 342,
   "id": "e0cd1422-5fd8-49f6-8f47-4c1c4dd82e67",
   "metadata": {},
   "outputs": [
    {
     "name": "stdout",
     "output_type": "stream",
     "text": [
      "Book 101 has been successfully returned\n"
     ]
    }
   ],
   "source": [
    "b1.return_book(101)"
   ]
  },
  {
   "cell_type": "code",
   "execution_count": 343,
   "id": "2d97fca4-ed8e-4652-8248-af3be324ee0c",
   "metadata": {},
   "outputs": [
    {
     "name": "stdout",
     "output_type": "stream",
     "text": [
      "[101, 'A Brief History of Time', True]\n",
      "[102, 'The Special Theory of Relativity', True]\n",
      "[103, 'On the Origin of Species', True]\n"
     ]
    }
   ],
   "source": [
    "b1.available_books()"
   ]
  },
  {
   "cell_type": "code",
   "execution_count": 344,
   "id": "9c3264b3-a602-4d36-8cfa-986a3f581a00",
   "metadata": {},
   "outputs": [
    {
     "name": "stdout",
     "output_type": "stream",
     "text": [
      "Book 101 is already available\n"
     ]
    }
   ],
   "source": [
    "b1.return_book(101)"
   ]
  },
  {
   "cell_type": "code",
   "execution_count": 345,
   "id": "0ce09f2d-c740-41c5-aeed-93da2837ba78",
   "metadata": {},
   "outputs": [
    {
     "name": "stdout",
     "output_type": "stream",
     "text": [
      "SORRY...Book not found\n"
     ]
    }
   ],
   "source": [
    "b1.borrow_book(104)"
   ]
  },
  {
   "cell_type": "code",
   "execution_count": 346,
   "id": "ccd207dd-e0eb-477a-a3d8-4d8db6f99b94",
   "metadata": {},
   "outputs": [
    {
     "name": "stdout",
     "output_type": "stream",
     "text": [
      "SORRY...Book not found\n"
     ]
    }
   ],
   "source": [
    "b1.return_book(105)"
   ]
  },
  {
   "cell_type": "code",
   "execution_count": 113,
   "id": "75b398c8-d2ec-4712-8dda-0380201b95bc",
   "metadata": {},
   "outputs": [],
   "source": [
    "#5"
   ]
  },
  {
   "cell_type": "code",
   "execution_count": 359,
   "id": "e2ea4e9e-9159-4b1c-8a52-ab2560baf710",
   "metadata": {},
   "outputs": [],
   "source": [
    "class inventory:\n",
    "    def __init__(self, product_id, product_qty):\n",
    "        self.product_id = product_id\n",
    "        self.product_quantity = product_qty \n",
    "                 \n",
    "class product:\n",
    "    def __init__(self):\n",
    "        self.products = []\n",
    "    \n",
    "    def add_product(self, product_id, product_qty):\n",
    "        prod = inventory(product_id, product_qty)\n",
    "        self.products.append([prod.product_id, prod.product_quantity])\n",
    "        print(f\"Product {product_id} added successfully\")\n",
    "        \n",
    "    def update_quantity(self, product_id, qty):\n",
    "        for i in self.products:\n",
    "            if i[0] == product_id:\n",
    "                i[1] = qty\n",
    "                print(f\"Quantity for product {product_id} successfully updated\")\n",
    "                return\n",
    "        print(\"SORRY...Product not found\")\n",
    "        \n",
    "    def available_products(self):\n",
    "        for i in self.products:\n",
    "            print(i)\n",
    "    "
   ]
  },
  {
   "cell_type": "code",
   "execution_count": 360,
   "id": "77efd8ca-effe-4485-a3ff-8945f3b12ee6",
   "metadata": {},
   "outputs": [],
   "source": [
    "p1 = product()"
   ]
  },
  {
   "cell_type": "code",
   "execution_count": 361,
   "id": "304f5ecf-a01b-4b81-a8a0-80e7d00f25c5",
   "metadata": {},
   "outputs": [
    {
     "name": "stdout",
     "output_type": "stream",
     "text": [
      "Product 101 added successfully\n",
      "Product 102 added successfully\n",
      "Product 103 added successfully\n"
     ]
    }
   ],
   "source": [
    "p1.add_product(101, 3)\n",
    "p1.add_product(102, 7)\n",
    "p1.add_product(103, 4)"
   ]
  },
  {
   "cell_type": "code",
   "execution_count": 362,
   "id": "3ca20040-8924-4096-a6cb-99a121828556",
   "metadata": {},
   "outputs": [
    {
     "name": "stdout",
     "output_type": "stream",
     "text": [
      "[101, 3]\n",
      "[102, 7]\n",
      "[103, 4]\n"
     ]
    }
   ],
   "source": [
    "p1.available_products()"
   ]
  },
  {
   "cell_type": "code",
   "execution_count": 363,
   "id": "063916fe-6c69-42b3-8588-cd4dcae34f08",
   "metadata": {},
   "outputs": [
    {
     "name": "stdout",
     "output_type": "stream",
     "text": [
      "Quantity for product 101 successfully updated\n",
      "Quantity for product 102 successfully updated\n",
      "Quantity for product 103 successfully updated\n"
     ]
    }
   ],
   "source": [
    "p1.update_quantity(101, 13)\n",
    "p1.update_quantity(102, 17)\n",
    "p1.update_quantity(103, 14)"
   ]
  },
  {
   "cell_type": "code",
   "execution_count": 364,
   "id": "7156af2f-814f-46f5-bed6-853cef1e4e58",
   "metadata": {},
   "outputs": [
    {
     "name": "stdout",
     "output_type": "stream",
     "text": [
      "[101, 13]\n",
      "[102, 17]\n",
      "[103, 14]\n"
     ]
    }
   ],
   "source": [
    "p1.available_products()"
   ]
  },
  {
   "cell_type": "code",
   "execution_count": 365,
   "id": "28a4abfa-4af6-4fe8-9d0e-89f30c047561",
   "metadata": {},
   "outputs": [],
   "source": [
    "#6"
   ]
  },
  {
   "cell_type": "code",
   "execution_count": 134,
   "id": "8ae80b5f-c41c-476f-b9d8-a14d44422581",
   "metadata": {},
   "outputs": [],
   "source": [
    "class shape:    \n",
    "    def area(self):\n",
    "        pass\n",
    "    def perimeter(self):\n",
    "        pass\n",
    "    \n",
    "class square(shape):\n",
    "    def __init__(self, side):\n",
    "        self.side = side\n",
    "    def area(self):\n",
    "        return self.side**2\n",
    "    def perimeter(self):\n",
    "        return self.side*4\n",
    "    \n",
    "class circle(shape):\n",
    "    def __init__(self, radius):\n",
    "        self.radius = radius\n",
    "    def area(self):\n",
    "        return 3.14 * (self.radius**2)\n",
    "    def perimeter(self):\n",
    "        return 2 * 3.14 * self.radius\n",
    "    \n",
    "class rectangle(shape):\n",
    "    def __init__(self, length, breadth):\n",
    "        self.length = length\n",
    "        self.breadth = breadth\n",
    "    def area(self):\n",
    "        return self.length * self.breadth\n",
    "    def perimeter(self):\n",
    "        return 2 * (self.length + self.breadth)"
   ]
  },
  {
   "cell_type": "code",
   "execution_count": 138,
   "id": "ac9d7cdc-5bd2-41f8-afd2-443e61a6704c",
   "metadata": {},
   "outputs": [],
   "source": [
    "s1 = square(5)"
   ]
  },
  {
   "cell_type": "code",
   "execution_count": 139,
   "id": "7e801094-a87f-4bfb-b74d-d82aac40ea55",
   "metadata": {},
   "outputs": [
    {
     "data": {
      "text/plain": [
       "25"
      ]
     },
     "execution_count": 139,
     "metadata": {},
     "output_type": "execute_result"
    }
   ],
   "source": [
    "s1.area()"
   ]
  },
  {
   "cell_type": "code",
   "execution_count": 140,
   "id": "60f7b59d-fc55-4648-9593-3541c9e5621d",
   "metadata": {},
   "outputs": [
    {
     "data": {
      "text/plain": [
       "20"
      ]
     },
     "execution_count": 140,
     "metadata": {},
     "output_type": "execute_result"
    }
   ],
   "source": [
    "s1.perimeter()"
   ]
  },
  {
   "cell_type": "code",
   "execution_count": 141,
   "id": "f064fcfb-3d27-4461-bf9c-2fe7eb956d5f",
   "metadata": {},
   "outputs": [],
   "source": [
    "c1 = circle(7)"
   ]
  },
  {
   "cell_type": "code",
   "execution_count": 142,
   "id": "6238f587-5f78-4f0a-b8b0-28bd22be6a44",
   "metadata": {},
   "outputs": [
    {
     "data": {
      "text/plain": [
       "153.86"
      ]
     },
     "execution_count": 142,
     "metadata": {},
     "output_type": "execute_result"
    }
   ],
   "source": [
    "c1.area()"
   ]
  },
  {
   "cell_type": "code",
   "execution_count": 143,
   "id": "5cc813c8-0f4d-4ec6-b925-99ed5ad95cf3",
   "metadata": {},
   "outputs": [
    {
     "data": {
      "text/plain": [
       "43.96"
      ]
     },
     "execution_count": 143,
     "metadata": {},
     "output_type": "execute_result"
    }
   ],
   "source": [
    "c1.perimeter()"
   ]
  },
  {
   "cell_type": "code",
   "execution_count": 144,
   "id": "ceba50ba-a2c0-47f5-b467-56f0060322ed",
   "metadata": {},
   "outputs": [],
   "source": [
    "r1 = rectangle(10, 5)"
   ]
  },
  {
   "cell_type": "code",
   "execution_count": 145,
   "id": "1f054041-b475-4c9a-8dcb-976ba93ee142",
   "metadata": {},
   "outputs": [
    {
     "data": {
      "text/plain": [
       "50"
      ]
     },
     "execution_count": 145,
     "metadata": {},
     "output_type": "execute_result"
    }
   ],
   "source": [
    "r1.area()"
   ]
  },
  {
   "cell_type": "code",
   "execution_count": 146,
   "id": "6c484390-14b6-4262-88c4-7add83a38c21",
   "metadata": {},
   "outputs": [
    {
     "data": {
      "text/plain": [
       "30"
      ]
     },
     "execution_count": 146,
     "metadata": {},
     "output_type": "execute_result"
    }
   ],
   "source": [
    "r1.perimeter()"
   ]
  },
  {
   "cell_type": "code",
   "execution_count": 147,
   "id": "52656bb6-6114-4d61-8469-7d9f80c88088",
   "metadata": {},
   "outputs": [],
   "source": [
    "#7"
   ]
  },
  {
   "cell_type": "code",
   "execution_count": 160,
   "id": "75afba8e-f568-47f8-b753-d08be8e2f684",
   "metadata": {},
   "outputs": [],
   "source": [
    "class student:\n",
    "    def __init__(self, stu_id, name, grades):\n",
    "        self.stu_id = stu_id\n",
    "        self.stu_name = name\n",
    "        self.stu_grades = grades\n",
    "    \n",
    "    def display_details(self):\n",
    "        print(\"Student id : \", self.stu_id)\n",
    "        print(\"Student name : \", self.stu_name)\n",
    "        print(\"Student grade : \", self.stu_grades)\n",
    "        \n",
    "    def avg_grade(self):\n",
    "        total_subjects = len(self.stu_grades)\n",
    "        marks = 0\n",
    "        for i in self.stu_grades:\n",
    "            if i == \"A\":\n",
    "                marks += 90\n",
    "            elif i == \"B\":\n",
    "                marks += 60\n",
    "            elif i == \"C\":\n",
    "                marks += 30\n",
    "            else:\n",
    "                marks += 5\n",
    "        \n",
    "        avg_marks = marks / total_subjects\n",
    "        if avg_marks > 90 :\n",
    "            print(\"A\")\n",
    "        elif avg_marks > 60 :\n",
    "            print(\"B\")\n",
    "        elif avg_marks > 30 :\n",
    "            print(\"C\")\n",
    "        else:\n",
    "            print(\"F\")"
   ]
  },
  {
   "cell_type": "code",
   "execution_count": 161,
   "id": "405734ad-bf91-4db8-b176-7bafe7a96915",
   "metadata": {},
   "outputs": [],
   "source": [
    "vats = student(101, \"vatsalya\", [\"A\",\"A\",\"A\",\"A\",\"B\"])\n",
    "yash = student(102, \"yash\", [\"B\",\"F\",\"F\",\"C\",\"C\"])\n",
    "naman = student(103, \"naman\", [\"B\",\"B\",\"C\",\"B\",\"B\"])"
   ]
  },
  {
   "cell_type": "code",
   "execution_count": 162,
   "id": "7fd95443-060e-45e3-85df-720b0fbf516c",
   "metadata": {},
   "outputs": [
    {
     "name": "stdout",
     "output_type": "stream",
     "text": [
      "Student id :  101\n",
      "Student name :  vatsalya\n",
      "Student grade :  ['A', 'A', 'A', 'A', 'B']\n"
     ]
    }
   ],
   "source": [
    "vats.display_details()"
   ]
  },
  {
   "cell_type": "code",
   "execution_count": 163,
   "id": "a0467fb5-ce4c-4a66-8a30-8ea1760a2102",
   "metadata": {},
   "outputs": [
    {
     "name": "stdout",
     "output_type": "stream",
     "text": [
      "B\n"
     ]
    }
   ],
   "source": [
    "vats.avg_grade()"
   ]
  },
  {
   "cell_type": "code",
   "execution_count": 164,
   "id": "6bc5b21d-c829-468f-88b0-ef41cf1e304d",
   "metadata": {},
   "outputs": [
    {
     "name": "stdout",
     "output_type": "stream",
     "text": [
      "F\n"
     ]
    }
   ],
   "source": [
    "yash.avg_grade()"
   ]
  },
  {
   "cell_type": "code",
   "execution_count": 165,
   "id": "3518a162-5310-419d-8762-365300b86889",
   "metadata": {},
   "outputs": [
    {
     "name": "stdout",
     "output_type": "stream",
     "text": [
      "C\n"
     ]
    }
   ],
   "source": [
    "naman.avg_grade()"
   ]
  },
  {
   "cell_type": "code",
   "execution_count": 166,
   "id": "2d29aa79-9196-4a09-82d3-2439990f6a59",
   "metadata": {},
   "outputs": [],
   "source": [
    "#8"
   ]
  },
  {
   "cell_type": "code",
   "execution_count": 221,
   "id": "2a554a42-f699-40ac-adb1-ac6498e5781a",
   "metadata": {},
   "outputs": [],
   "source": [
    "class email:\n",
    "    def __init__(self, sender, recipient, subject):\n",
    "        self.sender = sender\n",
    "        self.recipient = recipient\n",
    "        self.subject = subject\n",
    "        self.status = False\n",
    "        \n",
    "    def display_details(self):\n",
    "        print(\"Name of the sender : \" + self.sender)\n",
    "        print(\"Name of the recipient : \" + self.recipient)\n",
    "        print(\"Name of the subject : \" + self.subject)\n",
    "        \n",
    "    def send_email(self):\n",
    "        self.status = True\n",
    "        print(f\"Email successfully sent to {self.recipient} by {self.sender}\")\n",
    "        \n",
    "    def check_email_sent(self):\n",
    "        if self.status == True:\n",
    "            print(\"Email sent\")\n",
    "        else:\n",
    "            print(\"Email not sent\")"
   ]
  },
  {
   "cell_type": "code",
   "execution_count": 222,
   "id": "33f88296-4626-4b68-ae05-a3f9648e817b",
   "metadata": {},
   "outputs": [],
   "source": [
    "e1 = email(\"Vatsalya\", \"Naman\", \"Class tomorrow\")"
   ]
  },
  {
   "cell_type": "code",
   "execution_count": 224,
   "id": "69d2a435-6039-46ed-904a-4e5355508ccf",
   "metadata": {},
   "outputs": [
    {
     "name": "stdout",
     "output_type": "stream",
     "text": [
      "Email not sent\n"
     ]
    }
   ],
   "source": [
    "e1.check_email_sent()"
   ]
  },
  {
   "cell_type": "code",
   "execution_count": 225,
   "id": "b09b5054-c435-4131-8633-cafd7df9e9aa",
   "metadata": {},
   "outputs": [
    {
     "name": "stdout",
     "output_type": "stream",
     "text": [
      "Email successfully sent to Naman by Vatsalya\n"
     ]
    }
   ],
   "source": [
    "e1.send_email()"
   ]
  },
  {
   "cell_type": "code",
   "execution_count": 226,
   "id": "c70e12f9-ba0d-40a0-8304-858c04859e0f",
   "metadata": {},
   "outputs": [
    {
     "name": "stdout",
     "output_type": "stream",
     "text": [
      "Name of the sender : Vatsalya\n",
      "Name of the recipient : Naman\n",
      "Name of the subject : Class tomorrow\n"
     ]
    }
   ],
   "source": [
    "e1.display_details()"
   ]
  },
  {
   "cell_type": "code",
   "execution_count": 228,
   "id": "78ad6ae1-e778-4fe1-892e-9a3d309bbdd2",
   "metadata": {},
   "outputs": [
    {
     "name": "stdout",
     "output_type": "stream",
     "text": [
      "Email sent\n"
     ]
    }
   ],
   "source": [
    "e1.check_email_sent()"
   ]
  },
  {
   "cell_type": "code",
   "execution_count": 182,
   "id": "f71806b6-ca31-40ab-b352-91932ce4b6bb",
   "metadata": {},
   "outputs": [],
   "source": [
    "#9"
   ]
  },
  {
   "cell_type": "code",
   "execution_count": 185,
   "id": "beb0aa9d-1e11-438c-97d8-a9310640e654",
   "metadata": {},
   "outputs": [],
   "source": [
    "import time\n",
    "class media:\n",
    "    def __init__(self, name):\n",
    "        self.username = name\n",
    "        self.posts = []\n",
    "        \n",
    "    def add_post(self, msg):\n",
    "        print(\"Posting...\")\n",
    "        self.posts.append(msg)\n",
    "        time.sleep(1)\n",
    "        print(\"Posted successfully\")\n",
    "        \n",
    "    def display_posts(self):\n",
    "        for i in self.posts:\n",
    "            print(i)\n",
    "            \n",
    "    def search_post(self, key):\n",
    "        for i in self.posts:\n",
    "            if key in i :\n",
    "                print(i)"
   ]
  },
  {
   "cell_type": "code",
   "execution_count": 186,
   "id": "01287a19-615b-4668-8ca8-ed983148f1ac",
   "metadata": {},
   "outputs": [],
   "source": [
    "vats = media(\"vatsalya\")"
   ]
  },
  {
   "cell_type": "code",
   "execution_count": 187,
   "id": "8356560d-012a-4d7c-a432-0706b3e685f7",
   "metadata": {},
   "outputs": [
    {
     "name": "stdout",
     "output_type": "stream",
     "text": [
      "Posting...\n",
      "Posted successfully\n"
     ]
    }
   ],
   "source": [
    "vats.add_post(\"Spent a beautiful evening today\")"
   ]
  },
  {
   "cell_type": "code",
   "execution_count": 188,
   "id": "b3569891-9331-4357-9d5d-118e2bb81fe0",
   "metadata": {},
   "outputs": [
    {
     "name": "stdout",
     "output_type": "stream",
     "text": [
      "Posting...\n",
      "Posted successfully\n"
     ]
    }
   ],
   "source": [
    "vats.add_post(\"Not tomorrow, but today\")"
   ]
  },
  {
   "cell_type": "code",
   "execution_count": 189,
   "id": "518e7f18-cd58-4243-8dc0-b0679ae680b9",
   "metadata": {},
   "outputs": [
    {
     "name": "stdout",
     "output_type": "stream",
     "text": [
      "Posting...\n",
      "Posted successfully\n"
     ]
    }
   ],
   "source": [
    "vats.add_post(\"For all time always\")"
   ]
  },
  {
   "cell_type": "code",
   "execution_count": 190,
   "id": "3b92cf09-befd-46be-8543-47624044e55c",
   "metadata": {},
   "outputs": [
    {
     "name": "stdout",
     "output_type": "stream",
     "text": [
      "Spent a beautiful evening today\n",
      "Not tomorrow, but today\n",
      "For all time always\n"
     ]
    }
   ],
   "source": [
    "vats.display_posts()"
   ]
  },
  {
   "cell_type": "code",
   "execution_count": 191,
   "id": "a389cd9f-66ce-459a-877c-709dd1af34b9",
   "metadata": {},
   "outputs": [
    {
     "name": "stdout",
     "output_type": "stream",
     "text": [
      "Spent a beautiful evening today\n",
      "Not tomorrow, but today\n"
     ]
    }
   ],
   "source": [
    "vats.search_post(\"today\")"
   ]
  },
  {
   "cell_type": "code",
   "execution_count": 192,
   "id": "ca72aa31-7dc6-4995-bae8-aae648a144e0",
   "metadata": {},
   "outputs": [],
   "source": [
    "#10"
   ]
  },
  {
   "cell_type": "code",
   "execution_count": 213,
   "id": "d0920750-dcda-4c4d-85f1-75f641fd96af",
   "metadata": {},
   "outputs": [],
   "source": [
    "class todo:\n",
    "    def __init__(self):\n",
    "        self.tasks = []\n",
    "        \n",
    "    def add_task(self, task):\n",
    "        self.tasks.append(task)\n",
    "        print(\"Task added successfully\")\n",
    "        \n",
    "    def mark_completed(self, task):\n",
    "        for i in self.tasks:\n",
    "            if task == i[0]:\n",
    "                i[2] = True\n",
    "                print(\"Marked successfully\")\n",
    "                \n",
    "    def display_pending(self):\n",
    "        for i in self.tasks:\n",
    "            if i[2] == False:\n",
    "                print(i)\n",
    "                \n",
    "    def show_list(self):\n",
    "        for i in self.tasks:\n",
    "            print(i)"
   ]
  },
  {
   "cell_type": "code",
   "execution_count": 214,
   "id": "d5f8faeb-3df2-438a-9688-68be02c2b213",
   "metadata": {},
   "outputs": [],
   "source": [
    "t = todo()"
   ]
  },
  {
   "cell_type": "code",
   "execution_count": 215,
   "id": "28b5ef1e-eead-44fc-a118-fc00a405d1a6",
   "metadata": {},
   "outputs": [
    {
     "name": "stdout",
     "output_type": "stream",
     "text": [
      "Task added successfully\n"
     ]
    }
   ],
   "source": [
    "t.add_task([\"bring milk\", \"21-10-2023\", False])"
   ]
  },
  {
   "cell_type": "code",
   "execution_count": 216,
   "id": "69dbafe9-9287-44ff-8d22-cbb53e4959fb",
   "metadata": {},
   "outputs": [
    {
     "name": "stdout",
     "output_type": "stream",
     "text": [
      "Task added successfully\n"
     ]
    }
   ],
   "source": [
    "t.add_task([\"complete assignment\", \"22-10-2023\", False])"
   ]
  },
  {
   "cell_type": "code",
   "execution_count": 217,
   "id": "1c6eae29-9305-4615-9ed8-ef565ffeeee6",
   "metadata": {},
   "outputs": [
    {
     "name": "stdout",
     "output_type": "stream",
     "text": [
      "Task added successfully\n"
     ]
    }
   ],
   "source": [
    "t.add_task([\"play chess\", \"23-10-2023\", False])"
   ]
  },
  {
   "cell_type": "code",
   "execution_count": 218,
   "id": "1551468d-e8a7-49e3-9cc4-21a9381535c2",
   "metadata": {},
   "outputs": [
    {
     "name": "stdout",
     "output_type": "stream",
     "text": [
      "['bring milk', '21-10-2023', False]\n",
      "['complete assignment', '22-10-2023', False]\n",
      "['play chess', '23-10-2023', False]\n"
     ]
    }
   ],
   "source": [
    "t.show_list()"
   ]
  },
  {
   "cell_type": "code",
   "execution_count": 219,
   "id": "a8665d06-dca8-41ab-a5fc-c09596b88ae7",
   "metadata": {},
   "outputs": [
    {
     "name": "stdout",
     "output_type": "stream",
     "text": [
      "Marked successfully\n"
     ]
    }
   ],
   "source": [
    "t.mark_completed(\"complete assignment\")"
   ]
  },
  {
   "cell_type": "code",
   "execution_count": 220,
   "id": "7d74a9e0-d18f-4aae-8493-68fe23c0409d",
   "metadata": {},
   "outputs": [
    {
     "name": "stdout",
     "output_type": "stream",
     "text": [
      "['bring milk', '21-10-2023', False]\n",
      "['play chess', '23-10-2023', False]\n"
     ]
    }
   ],
   "source": [
    "t.display_pending()"
   ]
  }
 ],
 "metadata": {
  "kernelspec": {
   "display_name": "Python 3 (ipykernel)",
   "language": "python",
   "name": "python3"
  },
  "language_info": {
   "codemirror_mode": {
    "name": "ipython",
    "version": 3
   },
   "file_extension": ".py",
   "mimetype": "text/x-python",
   "name": "python",
   "nbconvert_exporter": "python",
   "pygments_lexer": "ipython3",
   "version": "3.10.8"
  }
 },
 "nbformat": 4,
 "nbformat_minor": 5
}
