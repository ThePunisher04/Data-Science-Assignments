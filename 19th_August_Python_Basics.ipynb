{
 "cells": [
  {
   "cell_type": "markdown",
   "id": "b1abab6e-1fee-44fd-8ffa-f3d003fb4bc3",
   "metadata": {},
   "source": [
    "Python Basics Variable"
   ]
  },
  {
   "cell_type": "markdown",
   "id": "593abedc-3ff4-4316-825f-7399682ea0a1",
   "metadata": {},
   "source": [
    "Ques 1"
   ]
  },
  {
   "cell_type": "code",
   "execution_count": 7,
   "id": "4466e7e8-65f4-4f52-9377-795832c03369",
   "metadata": {},
   "outputs": [],
   "source": [
    "x, y = 10, 20"
   ]
  },
  {
   "cell_type": "code",
   "execution_count": 8,
   "id": "fc2b7750-4e86-41d7-a134-19abfbad4c19",
   "metadata": {},
   "outputs": [
    {
     "data": {
      "text/plain": [
       "10"
      ]
     },
     "execution_count": 8,
     "metadata": {},
     "output_type": "execute_result"
    }
   ],
   "source": [
    "x"
   ]
  },
  {
   "cell_type": "code",
   "execution_count": 9,
   "id": "b6a3c066-f4ae-44b5-a058-9bb1d0df26d2",
   "metadata": {},
   "outputs": [
    {
     "data": {
      "text/plain": [
       "20"
      ]
     },
     "execution_count": 9,
     "metadata": {},
     "output_type": "execute_result"
    }
   ],
   "source": [
    "y"
   ]
  },
  {
   "cell_type": "code",
   "execution_count": 10,
   "id": "264d8577-e0c9-46bf-a431-71e56165169e",
   "metadata": {},
   "outputs": [],
   "source": [
    "x, y = y, x"
   ]
  },
  {
   "cell_type": "code",
   "execution_count": 11,
   "id": "e0e96160-2900-4c0b-8af7-2b7e1fe065df",
   "metadata": {},
   "outputs": [
    {
     "data": {
      "text/plain": [
       "20"
      ]
     },
     "execution_count": 11,
     "metadata": {},
     "output_type": "execute_result"
    }
   ],
   "source": [
    "x"
   ]
  },
  {
   "cell_type": "code",
   "execution_count": 12,
   "id": "0c9b52ad-5026-4753-b766-ecbad0ff84dc",
   "metadata": {},
   "outputs": [
    {
     "data": {
      "text/plain": [
       "10"
      ]
     },
     "execution_count": 12,
     "metadata": {},
     "output_type": "execute_result"
    }
   ],
   "source": [
    "y"
   ]
  },
  {
   "cell_type": "markdown",
   "id": "6dcc49ab-25d3-4f2b-b685-f5d8ccee6885",
   "metadata": {},
   "source": [
    "Ques 2"
   ]
  },
  {
   "cell_type": "code",
   "execution_count": 13,
   "id": "e89d5adc-2a74-42e0-93ad-ddbbc23eb69e",
   "metadata": {},
   "outputs": [
    {
     "name": "stdin",
     "output_type": "stream",
     "text": [
      "Enter the length of the rectangle :  10\n",
      "Enter the breadth of the rectangle :  5\n"
     ]
    }
   ],
   "source": [
    "length = int(input(\"Enter the length of the rectangle : \"))\n",
    "breadth = int(input(\"Enter the breadth of the rectangle : \"))"
   ]
  },
  {
   "cell_type": "code",
   "execution_count": 14,
   "id": "e42a076a-0cc8-4d90-aab7-c23b990f9e9d",
   "metadata": {},
   "outputs": [],
   "source": [
    "area = length * breadth"
   ]
  },
  {
   "cell_type": "code",
   "execution_count": 15,
   "id": "0179aca5-d8d4-4e06-b365-7b0158610c54",
   "metadata": {},
   "outputs": [
    {
     "name": "stdout",
     "output_type": "stream",
     "text": [
      "The area of rectangle is :  50\n"
     ]
    }
   ],
   "source": [
    "print(\"The area of rectangle is : \", area)"
   ]
  },
  {
   "cell_type": "markdown",
   "id": "dc93c885-282b-460a-8c96-b5383106f75b",
   "metadata": {},
   "source": [
    "Ques 3"
   ]
  },
  {
   "cell_type": "code",
   "execution_count": 16,
   "id": "32ec5672-60cc-43e6-9075-b572459b2d6d",
   "metadata": {},
   "outputs": [
    {
     "name": "stdin",
     "output_type": "stream",
     "text": [
      "Enter the temperature in celsius :  47.81\n"
     ]
    }
   ],
   "source": [
    "c = float(input(\"Enter the temperature in celsius : \"))"
   ]
  },
  {
   "cell_type": "code",
   "execution_count": 17,
   "id": "12b287c0-ac05-4d63-95f1-adacffa60077",
   "metadata": {},
   "outputs": [],
   "source": [
    "f = c * (9/5) + 32"
   ]
  },
  {
   "cell_type": "code",
   "execution_count": 18,
   "id": "f4375f7e-7c03-4d5e-8edf-d4f4ee10f686",
   "metadata": {},
   "outputs": [
    {
     "name": "stdout",
     "output_type": "stream",
     "text": [
      "The temperature in fahrenheit is :  118.058\n"
     ]
    }
   ],
   "source": [
    "print(\"The temperature in fahrenheit is : \", f)"
   ]
  },
  {
   "cell_type": "markdown",
   "id": "3d5362b1-94fb-44cf-ba9b-9170b27c904e",
   "metadata": {},
   "source": [
    "String Based Questions"
   ]
  },
  {
   "cell_type": "markdown",
   "id": "844037fc-1d4f-42b2-a62f-3e04d6fad08f",
   "metadata": {},
   "source": [
    "Ques 1"
   ]
  },
  {
   "cell_type": "code",
   "execution_count": 19,
   "id": "3c58d4d9-a52b-4bf0-9085-2caaca2ee206",
   "metadata": {},
   "outputs": [
    {
     "name": "stdin",
     "output_type": "stream",
     "text": [
      "Enter a string :  vatsalya\n"
     ]
    }
   ],
   "source": [
    "s = input(\"Enter a string : \")"
   ]
  },
  {
   "cell_type": "code",
   "execution_count": 20,
   "id": "5dc77d51-b5d4-4963-8a80-2c1ebd9710c9",
   "metadata": {},
   "outputs": [
    {
     "name": "stdout",
     "output_type": "stream",
     "text": [
      "The length of the string is :  8\n"
     ]
    }
   ],
   "source": [
    "print(\"The length of the string is : \", len(s))"
   ]
  },
  {
   "cell_type": "markdown",
   "id": "b88e8f13-4f06-4e4a-9d90-837174858bca",
   "metadata": {},
   "source": [
    "Ques 2"
   ]
  },
  {
   "cell_type": "code",
   "execution_count": 21,
   "id": "ae91ed27-5f20-456c-beb2-ee7617eb2cea",
   "metadata": {},
   "outputs": [
    {
     "name": "stdin",
     "output_type": "stream",
     "text": [
      "Enter a sentence :  Today is a beautiful evening\n"
     ]
    }
   ],
   "source": [
    "s = input(\"Enter a sentence : \")"
   ]
  },
  {
   "cell_type": "code",
   "execution_count": 23,
   "id": "a34cea71-6ab7-430c-a09d-a78d9d98e2f5",
   "metadata": {},
   "outputs": [
    {
     "name": "stdout",
     "output_type": "stream",
     "text": [
      "Number of vowels are :  12\n"
     ]
    }
   ],
   "source": [
    "vowel_count = 0\n",
    "for i in s:\n",
    "    if(i=='a' or i=='e' or i=='i' or i=='o' or i=='u' or i=='A' or i=='E' or i=='I' or i=='O' or i=='U'):\n",
    "        vowel_count = vowel_count + 1\n",
    "\n",
    "print(\"Number of vowels are : \", vowel_count)"
   ]
  },
  {
   "cell_type": "markdown",
   "id": "48e197d3-3e67-40f6-a242-2e3b0ab33c04",
   "metadata": {},
   "source": [
    "Ques 3"
   ]
  },
  {
   "cell_type": "code",
   "execution_count": 24,
   "id": "360514d4-23ed-482f-b30a-9bbfac25b7e3",
   "metadata": {},
   "outputs": [
    {
     "data": {
      "text/plain": [
       "'aylastav'"
      ]
     },
     "execution_count": 24,
     "metadata": {},
     "output_type": "execute_result"
    }
   ],
   "source": [
    "s = \"vatsalya\"\n",
    "s_rev = s[::-1]\n",
    "s_rev"
   ]
  },
  {
   "cell_type": "markdown",
   "id": "d29fbb79-719a-45f0-b5bf-f66666565f22",
   "metadata": {},
   "source": [
    "Ques 4"
   ]
  },
  {
   "cell_type": "code",
   "execution_count": 26,
   "id": "9fa68ca4-b3c5-4690-b3cf-bad034bea96d",
   "metadata": {},
   "outputs": [
    {
     "name": "stdin",
     "output_type": "stream",
     "text": [
      "Enter a string :  noon\n"
     ]
    }
   ],
   "source": [
    "s = input(\"Enter a string : \")"
   ]
  },
  {
   "cell_type": "code",
   "execution_count": 27,
   "id": "1cde3f14-1a9c-47c1-b3e8-513a26794f84",
   "metadata": {},
   "outputs": [],
   "source": [
    "s_rev = s[::-1]"
   ]
  },
  {
   "cell_type": "code",
   "execution_count": 28,
   "id": "b0763a73-6299-498c-9ebb-58c2cc66e036",
   "metadata": {},
   "outputs": [
    {
     "name": "stdout",
     "output_type": "stream",
     "text": [
      "Palindrome\n"
     ]
    }
   ],
   "source": [
    "if(s == s_rev):\n",
    "    print(\"Palindrome\")\n",
    "else:\n",
    "    print(\"Not a palindrome\")"
   ]
  },
  {
   "cell_type": "markdown",
   "id": "0c60dce7-b991-472a-b017-571f0c282c41",
   "metadata": {},
   "source": [
    "Ques 5"
   ]
  },
  {
   "cell_type": "code",
   "execution_count": 29,
   "id": "fbe47660-929c-4077-a3c7-b6834cbacfa0",
   "metadata": {},
   "outputs": [
    {
     "name": "stdin",
     "output_type": "stream",
     "text": [
      "Enter a string :     What a lovely sight   \n"
     ]
    }
   ],
   "source": [
    "s = input(\"Enter a string : \")"
   ]
  },
  {
   "cell_type": "code",
   "execution_count": 36,
   "id": "be0bbc4a-02b1-485e-b205-126d1d9acdf1",
   "metadata": {},
   "outputs": [
    {
     "data": {
      "text/plain": [
       "'What a lovely sight'"
      ]
     },
     "execution_count": 36,
     "metadata": {},
     "output_type": "execute_result"
    }
   ],
   "source": [
    "s.strip()"
   ]
  },
  {
   "cell_type": "code",
   "execution_count": 37,
   "id": "5daa4bdb-be3b-49e9-b109-1d9a3dd2faea",
   "metadata": {},
   "outputs": [
    {
     "data": {
      "text/plain": [
       "'   What a lovely sight   '"
      ]
     },
     "execution_count": 37,
     "metadata": {},
     "output_type": "execute_result"
    }
   ],
   "source": []
  },
  {
   "cell_type": "code",
   "execution_count": null,
   "id": "e9da8a4f-8680-4ce5-bf0b-5421efeab6dd",
   "metadata": {},
   "outputs": [],
   "source": []
  }
 ],
 "metadata": {
  "kernelspec": {
   "display_name": "Python 3 (ipykernel)",
   "language": "python",
   "name": "python3"
  },
  "language_info": {
   "codemirror_mode": {
    "name": "ipython",
    "version": 3
   },
   "file_extension": ".py",
   "mimetype": "text/x-python",
   "name": "python",
   "nbconvert_exporter": "python",
   "pygments_lexer": "ipython3",
   "version": "3.10.8"
  }
 },
 "nbformat": 4,
 "nbformat_minor": 5
}
