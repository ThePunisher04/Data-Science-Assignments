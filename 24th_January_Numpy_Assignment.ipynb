{
 "cells": [
  {
   "cell_type": "code",
   "execution_count": 2,
   "id": "1224ed75-169b-4f08-ae1c-3c5e427cadfb",
   "metadata": {},
   "outputs": [],
   "source": [
    "# 1. What is a Python library? Why do we use Python libraries?"
   ]
  },
  {
   "cell_type": "markdown",
   "id": "5b0e4e2a-a423-4aee-aaa4-0a77812e9edd",
   "metadata": {},
   "source": [
    "A Python library is a collection of pre-written code and functions that can be imported and used in Python scripts or programs. These libraries contain modules, which are files containing Python code that define functions, classes, and variables. Libraries serve as reusable sets of tools and functionalities that help developers perform common tasks without having to write code from scratch.\n",
    "\n",
    "Here are some reasons why we use Python libraries:\n",
    "\n",
    "1. **Code Reusability:**\n",
    "   - Libraries provide pre-built functions and modules that can be reused across different projects, saving time and effort. Developers don't need to reinvent the wheel for common tasks.\n",
    "\n",
    "2. **Efficiency:**\n",
    "   - Using established libraries allows developers to leverage optimized and well-tested code, leading to more efficient and reliable solutions. This is especially important for complex tasks or specialized domains.\n",
    "\n",
    "3. **Productivity:**\n",
    "   - Python libraries enhance productivity by providing high-level abstractions and tools that simplify coding. Developers can focus on the specific requirements of their projects without getting bogged down by low-level details.\n",
    "\n",
    "4. **Community Contribution:**\n",
    "   - The Python community actively contributes to the development of libraries, ensuring that they are continually improved, updated, and expanded. This collaborative effort results in a rich ecosystem of libraries covering a wide range of domains.\n",
    "\n",
    "5. **Specialized Functionalities:**\n",
    "   - Python libraries cater to various domains and industries, offering specialized functionalities. For example, libraries like NumPy for numerical computing, Pandas for data manipulation, TensorFlow for machine learning, and Django for web development.\n",
    "\n",
    "6. **Interoperability:**\n",
    "   - Python libraries often provide interoperability with other languages and systems. This allows developers to integrate Python code with existing software and take advantage of the strengths of different technologies.\n",
    "\n",
    "7. **Scalability:**\n",
    "   - Libraries help in building scalable solutions as they provide well-structured and modular code. This makes it easier to scale projects and maintain codebases as they grow in complexity.\n",
    "\n",
    "8. **Documentation and Support:**\n",
    "   - Libraries typically come with extensive documentation and community support, making it easier for developers to understand how to use them effectively. This reduces the learning curve and facilitates collaboration."
   ]
  },
  {
   "cell_type": "code",
   "execution_count": 4,
   "id": "50a8cfb8-f046-4ff2-80c8-0b03909f80b8",
   "metadata": {},
   "outputs": [],
   "source": [
    "# 2. What is the difference between Numpy array and List?"
   ]
  },
  {
   "cell_type": "markdown",
   "id": "9e1c562e-220c-4340-8bea-82bbbea0fa38",
   "metadata": {},
   "source": [
    "NumPy arrays and Python lists are both used to store collections of data, but they have some key differences in terms of functionality, performance, and usage. Here are some of the main differences between NumPy arrays and lists:\n",
    "\n",
    "1. **Data Type:**\n",
    "   - NumPy arrays are homogeneous, meaning all elements must be of the same data type. This homogeneity allows for more efficient storage and operations.\n",
    "   - Python lists are heterogeneous, allowing elements of different data types to be mixed in the same list.\n",
    "\n",
    "2. **Performance:**\n",
    "   - NumPy arrays are more efficient for numerical operations compared to Python lists. NumPy operations are implemented in C and Fortran, making them faster for large datasets and numerical computations.\n",
    "   - Python lists are more versatile but may be slower for numerical computations due to their dynamic and heterogeneous nature.\n",
    "\n",
    "3. **Memory Efficiency:**\n",
    "   - NumPy arrays are more memory-efficient than Python lists. NumPy uses a fixed, more compact memory layout for arrays, whereas lists have additional overhead for dynamic resizing and storing different data types.\n",
    "   - NumPy arrays can be more memory-efficient when dealing with large datasets.\n",
    "\n",
    "4. **Functionality:**\n",
    "   - NumPy provides a wide range of mathematical functions and operations that can be applied directly to entire arrays, making it convenient for numerical computing.\n",
    "   - Lists have a more general-purpose functionality, but mathematical operations need to be implemented using loops or list comprehensions.\n",
    "\n",
    "5. **Syntax:**\n",
    "   - NumPy provides a syntax for array programming that is more concise and closer to mathematical notation, making it easier to work with large datasets and perform array operations.\n",
    "   - Lists have a more straightforward syntax but require more explicit looping for operations on elements.\n",
    "\n",
    "6. **Size and Shape:**\n",
    "   - NumPy arrays have a fixed size at creation, and their size cannot be changed without creating a new array. The shape of a NumPy array is fixed once it is created.\n",
    "   - Lists are dynamic and can be resized or modified after creation. Lists can easily change in size and shape during runtime.\n",
    "\n",
    "7. **Use Cases:**\n",
    "   - NumPy is particularly suitable for numerical computations, scientific computing, and data analysis tasks where performance is crucial.\n",
    "   - Lists are more general-purpose and can be used in a wide range of scenarios where numerical performance is not a primary concern.\n"
   ]
  },
  {
   "cell_type": "code",
   "execution_count": null,
   "id": "09853f99-c16a-4c66-bd4c-82ada3df4782",
   "metadata": {},
   "outputs": [],
   "source": []
  },
  {
   "cell_type": "markdown",
   "id": "56b6959d-ad85-4d3a-b86c-1db98aa4500e",
   "metadata": {},
   "source": [
    "Ques-3. Find the shape, size and dimension of the following array?\n",
    "\n",
    "[[1, 2, 3, 4]\n",
    "[5, 6, 7, 8],\n",
    "[9, 10, 11, 12]]"
   ]
  },
  {
   "cell_type": "code",
   "execution_count": 9,
   "id": "7d9c2dae-db21-4a14-8057-0dcc72753e38",
   "metadata": {},
   "outputs": [
    {
     "name": "stdout",
     "output_type": "stream",
     "text": [
      "Original Array is : \n",
      " [[ 1  2  3  4]\n",
      " [ 5  6  7  8]\n",
      " [ 9 10 11 12]]\n",
      "\n",
      "Shape of the array is :  (3, 4)\n",
      "Size of the array is :  12\n",
      "Dimension of the array is :  2\n"
     ]
    }
   ],
   "source": [
    "import numpy as np\n",
    "\n",
    "arr = np.array([[1, 2, 3, 4], [5, 6, 7, 8], [9, 10, 11, 12]])\n",
    "\n",
    "print(\"Original Array is : \\n\", arr)\n",
    "print(\"\\nShape of the array is : \", arr.shape)\n",
    "print(\"Size of the array is : \", arr.size)\n",
    "print(\"Dimension of the array is : \", arr.ndim)"
   ]
  },
  {
   "cell_type": "code",
   "execution_count": null,
   "id": "fc226393-d497-4cd2-a566-14a74e3ef07f",
   "metadata": {},
   "outputs": [],
   "source": []
  },
  {
   "cell_type": "markdown",
   "id": "00ad3543-5acd-4e71-be66-c6d5b8aebfb1",
   "metadata": {},
   "source": [
    "Ques-4. Write python code to access the first row of the following array?\n",
    "\n",
    "[[1, 2, 3, 4]\n",
    "[5, 6, 7, 8],\n",
    "[9, 10, 11, 12]]"
   ]
  },
  {
   "cell_type": "code",
   "execution_count": 10,
   "id": "c8a8dc76-774a-44ec-813d-f4ddf5178d25",
   "metadata": {},
   "outputs": [
    {
     "data": {
      "text/plain": [
       "array([[ 1,  2,  3,  4],\n",
       "       [ 5,  6,  7,  8],\n",
       "       [ 9, 10, 11, 12]])"
      ]
     },
     "execution_count": 10,
     "metadata": {},
     "output_type": "execute_result"
    }
   ],
   "source": [
    "arr"
   ]
  },
  {
   "cell_type": "code",
   "execution_count": 12,
   "id": "532f661b-d662-4fd9-b24b-91128c044d3a",
   "metadata": {},
   "outputs": [
    {
     "name": "stdout",
     "output_type": "stream",
     "text": [
      "First row of the array is :  [1 2 3 4]\n"
     ]
    }
   ],
   "source": [
    "print(\"First row of the array is : \", arr[0])"
   ]
  },
  {
   "cell_type": "code",
   "execution_count": null,
   "id": "94cff6ce-24d5-427c-97de-f583c7ab9074",
   "metadata": {},
   "outputs": [],
   "source": []
  },
  {
   "cell_type": "markdown",
   "id": "32bde538-26f5-4477-9bc4-3704c8fd2653",
   "metadata": {},
   "source": [
    "Ques-5. How do you access the element at the third row and fourth column from the given numpy array?"
   ]
  },
  {
   "cell_type": "code",
   "execution_count": 13,
   "id": "c9839e78-b24b-4b8e-a386-681e29de1119",
   "metadata": {},
   "outputs": [
    {
     "data": {
      "text/plain": [
       "array([[ 1,  2,  3,  4],\n",
       "       [ 5,  6,  7,  8],\n",
       "       [ 9, 10, 11, 12]])"
      ]
     },
     "execution_count": 13,
     "metadata": {},
     "output_type": "execute_result"
    }
   ],
   "source": [
    "arr"
   ]
  },
  {
   "cell_type": "code",
   "execution_count": 15,
   "id": "60b8ba7e-ebaa-45a3-93db-58fc0dcb52ef",
   "metadata": {},
   "outputs": [
    {
     "name": "stdout",
     "output_type": "stream",
     "text": [
      "Element present at 3rd row and 4th column is :  12\n"
     ]
    }
   ],
   "source": [
    "print(\"Element present at 3rd row and 4th column is : \", arr[2][3])"
   ]
  },
  {
   "cell_type": "code",
   "execution_count": null,
   "id": "851728dd-5462-41df-b580-2ad4951ee6bb",
   "metadata": {},
   "outputs": [],
   "source": []
  },
  {
   "cell_type": "markdown",
   "id": "326686fb-56cd-4c37-9da7-c2dbb8d81f90",
   "metadata": {},
   "source": [
    "Ques-6. Write code to extract all odd-indexed elements from the given numpy array?"
   ]
  },
  {
   "cell_type": "code",
   "execution_count": 16,
   "id": "6f296e36-7747-4eb0-9e2e-6d8fdb457942",
   "metadata": {},
   "outputs": [
    {
     "data": {
      "text/plain": [
       "array([[ 1,  2,  3,  4],\n",
       "       [ 5,  6,  7,  8],\n",
       "       [ 9, 10, 11, 12]])"
      ]
     },
     "execution_count": 16,
     "metadata": {},
     "output_type": "execute_result"
    }
   ],
   "source": [
    "arr"
   ]
  },
  {
   "cell_type": "code",
   "execution_count": 18,
   "id": "edefaa09-f0a2-4f1f-ac58-62ce90d3c626",
   "metadata": {},
   "outputs": [
    {
     "name": "stdout",
     "output_type": "stream",
     "text": [
      "All odd-indexed elements of the array are : \n",
      "\n",
      "[[ 2  4]\n",
      " [ 6  8]\n",
      " [10 12]]\n"
     ]
    }
   ],
   "source": [
    "print(\"All odd-indexed elements of the array are : \\n\")\n",
    "print(arr[:, 1::2])"
   ]
  },
  {
   "cell_type": "code",
   "execution_count": null,
   "id": "83ebc3e6-11e2-47ab-947c-84e5264a6595",
   "metadata": {},
   "outputs": [],
   "source": []
  },
  {
   "cell_type": "markdown",
   "id": "22aa7b64-59f6-4716-917b-f6b8464c5fec",
   "metadata": {},
   "source": [
    "Ques-7. How can you generate a random 3x3 matrix with values between 0 and 1?"
   ]
  },
  {
   "cell_type": "code",
   "execution_count": 20,
   "id": "7bffd392-aba0-4148-9aa4-dfd276586494",
   "metadata": {},
   "outputs": [
    {
     "name": "stdout",
     "output_type": "stream",
     "text": [
      "[[0.50936753 0.15152945 0.0573162 ]\n",
      " [0.81867521 0.62947758 0.34144344]\n",
      " [0.68708436 0.79067203 0.72127862]]\n"
     ]
    }
   ],
   "source": [
    "import numpy as np\n",
    "\n",
    "# Generate a random 3x3 matrix with values between 0 and 1\n",
    "random_matrix = np.random.rand(3, 3)\n",
    "\n",
    "# Print the result\n",
    "print(random_matrix)"
   ]
  },
  {
   "cell_type": "code",
   "execution_count": null,
   "id": "9b3ff165-fe18-4514-8d3d-740a8f1546d9",
   "metadata": {},
   "outputs": [],
   "source": []
  },
  {
   "cell_type": "raw",
   "id": "6be9da27-85ba-4ae5-b687-b09047c662be",
   "metadata": {},
   "source": [
    "Ques-8. Describe the difference between np.random.rand and np.random.randn?"
   ]
  },
  {
   "cell_type": "markdown",
   "id": "0f9d41b9-7633-4f4b-a30c-d180bb772045",
   "metadata": {},
   "source": [
    "numpy.random.rand:\n",
    "\n",
    "This function generates random numbers from a uniform distribution over the half-open interval [0.0, 1.0). In other words, the generated values are uniformly distributed between 0 (inclusive) and 1 (exclusive)."
   ]
  },
  {
   "cell_type": "code",
   "execution_count": 22,
   "id": "0fc101b8-bfd4-4721-97f3-004a43641582",
   "metadata": {},
   "outputs": [
    {
     "data": {
      "text/plain": [
       "array([[0.19396325, 0.98834757],\n",
       "       [0.82703247, 0.6585568 ]])"
      ]
     },
     "execution_count": 22,
     "metadata": {},
     "output_type": "execute_result"
    }
   ],
   "source": [
    "import numpy as np\n",
    "\n",
    "# Generate a 2x2 matrix with random values between 0 and 1\n",
    "random_array = np.random.rand(2, 2)\n",
    "random_array"
   ]
  },
  {
   "cell_type": "code",
   "execution_count": null,
   "id": "ce95a55a-b3f9-48ae-ba9f-4ea3f7f17e30",
   "metadata": {},
   "outputs": [],
   "source": []
  },
  {
   "cell_type": "markdown",
   "id": "0773cd00-6fe6-4f50-bdd2-50149b580f81",
   "metadata": {},
   "source": [
    "numpy.random.randn:\n",
    "\n",
    "This function generates random numbers from a standard normal distribution (mean=0, standard deviation=1). The resulting values are not uniformly distributed; instead, they follow a bell-shaped curve, which is characteristic of a normal (Gaussian) distribution."
   ]
  },
  {
   "cell_type": "code",
   "execution_count": 24,
   "id": "4b9e2aff-ad87-4e12-ad29-e43bc731346a",
   "metadata": {},
   "outputs": [
    {
     "data": {
      "text/plain": [
       "array([[ 0.87408785, -1.45726307],\n",
       "       [ 0.04149657, -0.15561661]])"
      ]
     },
     "execution_count": 24,
     "metadata": {},
     "output_type": "execute_result"
    }
   ],
   "source": [
    "import numpy as np\n",
    "\n",
    "# Generate a 2x2 matrix with random values from a standard normal distribution\n",
    "random_array_normal = np.random.randn(2, 2)\n",
    "random_array_normal"
   ]
  },
  {
   "cell_type": "code",
   "execution_count": null,
   "id": "5d14163d-cbdd-43ba-8085-d2df30948778",
   "metadata": {},
   "outputs": [],
   "source": []
  },
  {
   "cell_type": "code",
   "execution_count": null,
   "id": "5b4fd844-93bf-47bc-be1a-e530643d2aeb",
   "metadata": {},
   "outputs": [],
   "source": []
  },
  {
   "cell_type": "markdown",
   "id": "4397f64c-a497-49a2-a985-783584bdfc02",
   "metadata": {},
   "source": [
    "Ques-9. Write code to increase the dimension of the following array?"
   ]
  },
  {
   "cell_type": "code",
   "execution_count": 25,
   "id": "3bc91917-b1be-48ed-a011-70453af67db7",
   "metadata": {},
   "outputs": [
    {
     "name": "stdout",
     "output_type": "stream",
     "text": [
      "Original 1D Array:\n",
      "[1 2 3 4 5]\n",
      "\n",
      "Array with Increased Dimension:\n",
      "[[1]\n",
      " [2]\n",
      " [3]\n",
      " [4]\n",
      " [5]]\n"
     ]
    }
   ],
   "source": [
    "import numpy as np\n",
    "\n",
    "# Original 1D array\n",
    "original_array = np.array([1, 2, 3, 4, 5])\n",
    "\n",
    "# Alternatively, you can use numpy.expand_dims\n",
    "new_dimension_array = np.expand_dims(original_array, axis=1)\n",
    "\n",
    "# Print the results\n",
    "print(\"Original 1D Array:\")\n",
    "print(original_array)\n",
    "print(\"\\nArray with Increased Dimension:\")\n",
    "print(new_dimension_array)\n"
   ]
  },
  {
   "cell_type": "code",
   "execution_count": null,
   "id": "61f0daf4-5271-4e84-9d52-dd583237136e",
   "metadata": {},
   "outputs": [],
   "source": []
  },
  {
   "cell_type": "code",
   "execution_count": null,
   "id": "6c9c7cb4-9074-47bf-87f4-067a2153fe07",
   "metadata": {},
   "outputs": [],
   "source": []
  },
  {
   "cell_type": "markdown",
   "id": "ac3972b0-728f-48db-8f55-7a82c6956a05",
   "metadata": {},
   "source": [
    "Ques-10. How to transpose the following array in NumPy?"
   ]
  },
  {
   "cell_type": "code",
   "execution_count": 26,
   "id": "c0240523-366f-4581-9b7f-170c769b31d6",
   "metadata": {},
   "outputs": [
    {
     "name": "stdout",
     "output_type": "stream",
     "text": [
      "Original Array:\n",
      "[[ 1  2  3  4]\n",
      " [ 5  6  7  8]\n",
      " [ 9 10 11 12]]\n",
      "\n",
      "Transposed Array using TRANSPOSE function :\n",
      "[[ 1  5  9]\n",
      " [ 2  6 10]\n",
      " [ 3  7 11]\n",
      " [ 4  8 12]]\n",
      "\n",
      "Transposed Array using .T :\n",
      "[[ 1  5  9]\n",
      " [ 2  6 10]\n",
      " [ 3  7 11]\n",
      " [ 4  8 12]]\n"
     ]
    }
   ],
   "source": [
    "import numpy as np\n",
    "\n",
    "# Original array\n",
    "original_array = np.array([[ 1,  2,  3,  4],\n",
    "       [ 5,  6,  7,  8],\n",
    "       [ 9, 10, 11, 12]])\n",
    "\n",
    "# Transpose the array using numpy.transpose\n",
    "transposed_array_1 = np.transpose(original_array)\n",
    "\n",
    "# Alternatively, you can use the T attribute\n",
    "transposed_array_2 = original_array.T\n",
    "\n",
    "# Print the results\n",
    "print(\"Original Array:\")\n",
    "print(original_array)\n",
    "print(\"\\nTransposed Array using TRANSPOSE function :\")\n",
    "print(transposed_array_1)\n",
    "print(\"\\nTransposed Array using .T :\")\n",
    "print(transposed_array_2)\n"
   ]
  },
  {
   "cell_type": "code",
   "execution_count": null,
   "id": "e61d3065-8f75-4dc9-aa88-985044589c60",
   "metadata": {},
   "outputs": [],
   "source": []
  },
  {
   "cell_type": "code",
   "execution_count": null,
   "id": "71f28bd1-63ea-403f-ba12-ed355ef7dd62",
   "metadata": {},
   "outputs": [],
   "source": []
  },
  {
   "cell_type": "raw",
   "id": "a6154707-654a-4fa3-8eb3-85a99caa7ab1",
   "metadata": {},
   "source": [
    "'''\n",
    "Ques-11\n",
    "Consider the following matrix:\n",
    "\n",
    "Matrix A2 [[1, 2, 3, 4] [5, 6, 7, 8],[9, 10, 11, 12]]\n",
    "Matrix B2 [[1, 2, 3, 4] [5, 6, 7, 8],[9, 10, 11, 12]]\n",
    "\n",
    "Perform the following operation using Python:\n",
    "1. Index wise multiplication\n",
    "2. Matix multiplication\n",
    "3. Add both the matices\n",
    "4. Subtact matix B from A\n",
    "5. Divide Matix B by A\n",
    "'''"
   ]
  },
  {
   "cell_type": "code",
   "execution_count": 29,
   "id": "6a3c7742-01a5-4c2a-b945-6570ff49870b",
   "metadata": {},
   "outputs": [
    {
     "name": "stdout",
     "output_type": "stream",
     "text": [
      "1. Index Wise Multiplication:\n",
      "[[  1   4   9  16]\n",
      " [ 25  36  49  64]\n",
      " [ 81 100 121 144]]\n",
      "\n",
      "2. Matrix Multiplication:\n",
      "[[ 30  70 110]\n",
      " [ 70 174 278]\n",
      " [110 278 446]]\n",
      "\n",
      "3. Matrix Addition:\n",
      "[[ 2  4  6  8]\n",
      " [10 12 14 16]\n",
      " [18 20 22 24]]\n",
      "\n",
      "4. Matrix Subtraction:\n",
      "[[0 0 0 0]\n",
      " [0 0 0 0]\n",
      " [0 0 0 0]]\n",
      "\n",
      "5. Matrix Division (Element-wise):\n",
      "[[1. 1. 1. 1.]\n",
      " [1. 1. 1. 1.]\n",
      " [1. 1. 1. 1.]]\n"
     ]
    }
   ],
   "source": [
    "import numpy as np\n",
    "\n",
    "# Given matrices\n",
    "A2 = np.array([[1, 2, 3, 4],\n",
    "               [5, 6, 7, 8],\n",
    "               [9, 10, 11, 12]])\n",
    "\n",
    "B2 = np.array([[1, 2, 3, 4],\n",
    "               [5, 6, 7, 8],\n",
    "               [9, 10, 11, 12]])\n",
    "\n",
    "# 1. Index wise multiplication\n",
    "index_wise_multiplication = A2 * B2\n",
    "\n",
    "# 2. Matrix multiplication\n",
    "matrix_multiplication = np.dot(A2, B2.T)  # Transpose of B for proper matrix multiplication\n",
    "\n",
    "# 3. Add both the matrices\n",
    "matrix_addition = A2 + B2\n",
    "\n",
    "# 4. Subtract matrix B from A\n",
    "matrix_subtraction = A2 - B2\n",
    "\n",
    "# 5. Divide matrix B by A (element-wise division)\n",
    "matrix_division = B2 / A2\n",
    "\n",
    "# Print the results\n",
    "print(\"1. Index Wise Multiplication:\")\n",
    "print(index_wise_multiplication)\n",
    "\n",
    "print(\"\\n2. Matrix Multiplication:\")\n",
    "print(matrix_multiplication)\n",
    "\n",
    "print(\"\\n3. Matrix Addition:\")\n",
    "print(matrix_addition)\n",
    "\n",
    "print(\"\\n4. Matrix Subtraction:\")\n",
    "print(matrix_subtraction)\n",
    "\n",
    "print(\"\\n5. Matrix Division (Element-wise):\")\n",
    "print(matrix_division)\n"
   ]
  },
  {
   "cell_type": "code",
   "execution_count": null,
   "id": "955e3f65-1100-4fc3-9d87-74b26e814180",
   "metadata": {},
   "outputs": [],
   "source": []
  },
  {
   "cell_type": "code",
   "execution_count": null,
   "id": "73031d67-216c-4f5a-ae55-8ebd9b68483d",
   "metadata": {},
   "outputs": [],
   "source": []
  },
  {
   "cell_type": "code",
   "execution_count": 30,
   "id": "9d77dcc8-23b8-407e-9016-a3f595d44b8d",
   "metadata": {},
   "outputs": [],
   "source": [
    "#Ques-12. Which function in Numpy can be used to swap the byte order of an array?"
   ]
  },
  {
   "cell_type": "markdown",
   "id": "a4c2bf33-3f8b-4700-bb13-91bda6a8233d",
   "metadata": {},
   "source": [
    "In NumPy, you can use the numpy.byteswap function to swap the byte order of an array. This function is particularly useful when dealing with data that might have been read or written with a different byte order, such as when working with binary files."
   ]
  },
  {
   "cell_type": "code",
   "execution_count": 33,
   "id": "99726060-5ab1-486e-acde-ad3ebda00d58",
   "metadata": {},
   "outputs": [
    {
     "name": "stdout",
     "output_type": "stream",
     "text": [
      "Original Array:\n",
      "[1 2 3 4]\n",
      "\n",
      "Swapped Array:\n",
      "<built-in method byteswap of numpy.ndarray object at 0x7f0af82812f0>\n"
     ]
    }
   ],
   "source": [
    "import numpy as np\n",
    "\n",
    "# Create an array with a specified dtype and byte order\n",
    "original_array = np.array([1, 2, 3, 4], dtype='int32')\n",
    "\n",
    "# Swap the byte order using numpy.byteswap\n",
    "swapped_array = original_array.byteswap\n",
    "\n",
    "# Print the original and swapped arrays\n",
    "print(\"Original Array:\")\n",
    "print(original_array)\n",
    "\n",
    "print(\"\\nSwapped Array:\")\n",
    "print(swapped_array)\n"
   ]
  },
  {
   "cell_type": "code",
   "execution_count": null,
   "id": "b8c35e41-9a9c-485d-97fc-1645d681f9c7",
   "metadata": {},
   "outputs": [],
   "source": []
  },
  {
   "cell_type": "code",
   "execution_count": null,
   "id": "6674ef04-0a54-4cfe-b5ba-7a04afde35ab",
   "metadata": {},
   "outputs": [],
   "source": []
  },
  {
   "cell_type": "code",
   "execution_count": 34,
   "id": "066d5bf0-e59c-452e-b6dd-be0dbab647ef",
   "metadata": {},
   "outputs": [],
   "source": [
    "#Ques-13. What is the significance of the np.linalg.inv function?"
   ]
  },
  {
   "cell_type": "markdown",
   "id": "8b35eced-fded-48a7-8a3c-47a2854980a0",
   "metadata": {},
   "source": [
    "The np.linalg.inv function in NumPy is used to compute the multiplicative inverse of a matrix. In other words, it calculates the inverse of a given square matrix. The significance of np.linalg.inv lies in its application to solving linear systems of equations and its use in various mathematical and scientific computations.\n",
    "\n",
    "Here are some key aspects of the np.linalg.inv function:\n",
    "\n",
    "1. Matrix Inversion\n",
    "\n",
    "2. Linear Systems of Equations\n",
    "\n",
    "3. Numerical Stability\n",
    "\n",
    "While theoretically, the inverse exists for a non-singular (invertible) matrix, in numerical computations, matrices may be ill-conditioned or close to singular. Therefore, it is essential to consider the numerical stability of the inversion process, and other methods (like solving linear systems) may be preferred in certain situations.\n",
    "\n",
    "4. Application in Statistics and Optimization\n",
    "\n",
    "The inverse of a matrix is often used in statistics, optimization, and various mathematical algorithms. For example, in linear regression, the matrix inversion is used to calculate the coefficients of the regression equation."
   ]
  },
  {
   "cell_type": "code",
   "execution_count": 35,
   "id": "55417e8e-e842-4bc5-8061-f166cb91598c",
   "metadata": {},
   "outputs": [
    {
     "name": "stdout",
     "output_type": "stream",
     "text": [
      "Original Matrix:\n",
      "[[2 1]\n",
      " [7 4]]\n",
      "\n",
      "Inverse Matrix:\n",
      "[[ 4. -1.]\n",
      " [-7.  2.]]\n"
     ]
    }
   ],
   "source": [
    "import numpy as np\n",
    "\n",
    "# Create a square matrix\n",
    "A = np.array([[2, 1],\n",
    "              [7, 4]])\n",
    "\n",
    "# Calculate the inverse of the matrix\n",
    "A_inv = np.linalg.inv(A)\n",
    "\n",
    "# Print the original and inverse matrices\n",
    "print(\"Original Matrix:\")\n",
    "print(A)\n",
    "\n",
    "print(\"\\nInverse Matrix:\")\n",
    "print(A_inv)\n"
   ]
  },
  {
   "cell_type": "code",
   "execution_count": null,
   "id": "e25e4d37-9b18-49e6-8517-5c7cb26b5aa5",
   "metadata": {},
   "outputs": [],
   "source": []
  },
  {
   "cell_type": "code",
   "execution_count": null,
   "id": "fef5ad99-d6ce-41ea-905c-1e919b9bcc83",
   "metadata": {},
   "outputs": [],
   "source": []
  },
  {
   "cell_type": "code",
   "execution_count": 36,
   "id": "d7ef6a2d-5270-49ea-ab2e-8ed9aae8ba4c",
   "metadata": {},
   "outputs": [],
   "source": [
    "#Ques-14. What does the np.reshape function do, and how is it used?"
   ]
  },
  {
   "cell_type": "markdown",
   "id": "ef89cc8a-89a1-4ab8-8ec6-7a9a5b0b3220",
   "metadata": {},
   "source": [
    "The np.reshape function in NumPy is used to change the shape of an array without changing its data. It allows you to give a new shape to an array without changing the original data."
   ]
  },
  {
   "cell_type": "code",
   "execution_count": 41,
   "id": "c0ea3a3b-4cbd-4919-b316-79aa0a12ed41",
   "metadata": {},
   "outputs": [
    {
     "name": "stdout",
     "output_type": "stream",
     "text": [
      "Original array:\n",
      "[[0. 0. 0. 0.]\n",
      " [0. 0. 0. 0.]\n",
      " [0. 0. 0. 0.]\n",
      " [0. 0. 0. 0.]\n",
      " [0. 0. 0. 0.]\n",
      " [0. 0. 0. 0.]]\n",
      "\n",
      "Reshaped array:\n",
      "[[0. 0. 0. 0. 0. 0. 0. 0.]\n",
      " [0. 0. 0. 0. 0. 0. 0. 0.]\n",
      " [0. 0. 0. 0. 0. 0. 0. 0.]]\n"
     ]
    }
   ],
   "source": [
    "import numpy as np\n",
    "\n",
    "# Reshape a 1D array to a 2D array\n",
    "arr1 = np.zeros((6,4))\n",
    "arr2 = np.reshape(arr1, (3, 8))\n",
    "print(\"Original array:\")\n",
    "print(arr1)\n",
    "print()\n",
    "print(\"Reshaped array:\")\n",
    "print(arr2)"
   ]
  },
  {
   "cell_type": "code",
   "execution_count": null,
   "id": "84d593e6-9d6e-483a-80df-a0149685d3a9",
   "metadata": {},
   "outputs": [],
   "source": []
  },
  {
   "cell_type": "code",
   "execution_count": null,
   "id": "268434d1-bde9-4375-905f-8536b26c13fb",
   "metadata": {},
   "outputs": [],
   "source": []
  },
  {
   "cell_type": "code",
   "execution_count": 43,
   "id": "43788b01-b56b-4f98-8c80-cac7ba4fe094",
   "metadata": {},
   "outputs": [],
   "source": [
    "#Ques-15. What is broadcasting in Numpy?"
   ]
  },
  {
   "cell_type": "markdown",
   "id": "2c99cad3-932c-4319-93cf-12e94e76f9da",
   "metadata": {},
   "source": [
    "Broadcasting is a powerful feature in NumPy that allows for implicit element-wise operations between arrays of different shapes and sizes. It enables NumPy to perform operations on arrays of different shapes, as long as they meet certain compatibility conditions. Broadcasting eliminates the need for explicit loops and makes code more concise and efficient.\n",
    "\n",
    "The basic idea behind broadcasting is to extend smaller arrays so that they have compatible shapes for element-wise operations with larger arrays. NumPy automatically performs these extensions when operating on arrays with different shapes, making it look as if the smaller array were replicated along certain dimensions.\n",
    "\n",
    "The key rules for broadcasting are:\n",
    "\n",
    "1. Dimensions Compatibility:\n",
    "\n",
    "The dimensions of the arrays must be compatible. Broadcasting starts from the trailing dimensions, and for each dimension, the size must either be the same or one of them must be 1.\n",
    "\n",
    "2. Size Compatibility:\n",
    "\n",
    "Sizes are compatible if, for each dimension, the sizes are equal or one of them is 1. If a dimension size is 1, the array with size 1 is \"broadcast\" along that dimension to match the larger array."
   ]
  },
  {
   "cell_type": "code",
   "execution_count": 44,
   "id": "64c4339a-5dca-4055-9c0e-911d5fca89f3",
   "metadata": {},
   "outputs": [
    {
     "name": "stdout",
     "output_type": "stream",
     "text": [
      "Scalar multiplied by 1D array:\n",
      "[ 5 10 15 20]\n",
      "\n",
      "1D array added to 2D array:\n",
      "[[ 5  7  9]\n",
      " [ 8 10 12]]\n",
      "\n",
      "2D arrays with different dimensions added:\n",
      "[[5 6 7]\n",
      " [6 7 8]]\n"
     ]
    }
   ],
   "source": [
    "import numpy as np\n",
    "\n",
    "# Example 1: Scalar and 1D array\n",
    "scalar = 5\n",
    "arr1d = np.array([1, 2, 3, 4])\n",
    "result = scalar * arr1d  # Scalar is broadcasted to the shape of arr1d\n",
    "print(\"Scalar multiplied by 1D array:\")\n",
    "print(result)\n",
    "\n",
    "# Example 2: 1D and 2D arrays\n",
    "arr1d = np.array([1, 2, 3])\n",
    "arr2d = np.array([[4, 5, 6],\n",
    "                  [7, 8, 9]])\n",
    "result = arr1d + arr2d  # arr1d is broadcasted to the shape of arr2d\n",
    "print(\"\\n1D array added to 2D array:\")\n",
    "print(result)\n",
    "\n",
    "# Example 3: 2D arrays with different dimensions\n",
    "arr1 = np.array([[1, 2, 3]])\n",
    "arr2 = np.array([[4],\n",
    "                 [5]])\n",
    "result = arr1 + arr2  # Both arrays are broadcasted to shape (2, 3)\n",
    "print(\"\\n2D arrays with different dimensions added:\")\n",
    "print(result)\n"
   ]
  },
  {
   "cell_type": "code",
   "execution_count": null,
   "id": "b162b199-3584-41b8-8487-d605ebe2c0f9",
   "metadata": {},
   "outputs": [],
   "source": []
  }
 ],
 "metadata": {
  "kernelspec": {
   "display_name": "Python 3 (ipykernel)",
   "language": "python",
   "name": "python3"
  },
  "language_info": {
   "codemirror_mode": {
    "name": "ipython",
    "version": 3
   },
   "file_extension": ".py",
   "mimetype": "text/x-python",
   "name": "python",
   "nbconvert_exporter": "python",
   "pygments_lexer": "ipython3",
   "version": "3.10.8"
  }
 },
 "nbformat": 4,
 "nbformat_minor": 5
}
